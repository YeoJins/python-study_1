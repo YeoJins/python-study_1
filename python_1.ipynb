{
  "nbformat": 4,
  "nbformat_minor": 0,
  "metadata": {
    "colab": {
      "name": "python_1.ipynb",
      "provenance": [],
      "authorship_tag": "ABX9TyNE3wXqDacWUhg6Q/BHTNSh",
      "include_colab_link": true
    },
    "kernelspec": {
      "name": "python3",
      "display_name": "Python 3"
    },
    "language_info": {
      "name": "python"
    }
  },
  "cells": [
    {
      "cell_type": "markdown",
      "metadata": {
        "id": "view-in-github",
        "colab_type": "text"
      },
      "source": [
        "<a href=\"https://colab.research.google.com/github/YeoJins/python-study_1/blob/main/python_1.ipynb\" target=\"_parent\"><img src=\"https://colab.research.google.com/assets/colab-badge.svg\" alt=\"Open In Colab\"/></a>"
      ]
    },
    {
      "cell_type": "code",
      "source": [
        "from google.colab import drive\n",
        "drive.mount('/gdrive')"
      ],
      "metadata": {
        "colab": {
          "base_uri": "https://localhost:8080/"
        },
        "id": "mfpZdPsP-KbT",
        "outputId": "fe724847-fe3e-4a08-8919-2817ed7be1f8"
      },
      "execution_count": 1,
      "outputs": [
        {
          "output_type": "stream",
          "name": "stdout",
          "text": [
            "Mounted at /gdrive\n"
          ]
        }
      ]
    },
    {
      "cell_type": "code",
      "source": [
        "cd '/gdrive/MyDrive/2022-1/python-study_1'"
      ],
      "metadata": {
        "colab": {
          "base_uri": "https://localhost:8080/"
        },
        "id": "RjVVyCg9-hqS",
        "outputId": "bb021ad8-0a17-4292-ca2e-93e130fa6c03"
      },
      "execution_count": 5,
      "outputs": [
        {
          "output_type": "stream",
          "name": "stdout",
          "text": [
            "/gdrive/MyDrive/2022-1/python-study_1\n"
          ]
        }
      ]
    },
    {
      "cell_type": "code",
      "execution_count": null,
      "metadata": {
        "colab": {
          "base_uri": "https://localhost:8080/"
        },
        "id": "EwUcDFbo7G6t",
        "outputId": "bb602d08-e7e2-4e5b-956c-b2ba2e3a03b5"
      },
      "outputs": [
        {
          "output_type": "stream",
          "name": "stdout",
          "text": [
            "Hello World\n"
          ]
        }
      ],
      "source": [
        "print(\"Hello World\")"
      ]
    },
    {
      "cell_type": "code",
      "source": [
        "print(\"주식은 대박이다.\")"
      ],
      "metadata": {
        "colab": {
          "base_uri": "https://localhost:8080/"
        },
        "id": "A949biN-7Lfh",
        "outputId": "65c0a20e-01e4-4651-bc96-d74487659c51"
      },
      "execution_count": null,
      "outputs": [
        {
          "output_type": "stream",
          "name": "stdout",
          "text": [
            "주식은 대박이다.\n"
          ]
        }
      ]
    },
    {
      "cell_type": "code",
      "source": [
        "id(x),id(y) #id는 변수의 주소를 알려주는 함수, 두 주소값이 같다는 것은 같은 값에는 같은 주소가 할당됨을 가리킨다."
      ],
      "metadata": {
        "colab": {
          "base_uri": "https://localhost:8080/"
        },
        "id": "Vr1UbbXp8Moy",
        "outputId": "bd70836e-cf0f-42f0-9ebd-4c6180312e38"
      },
      "execution_count": null,
      "outputs": [
        {
          "output_type": "execute_result",
          "data": {
            "text/plain": [
              "(93936863938144, 93936863938144)"
            ]
          },
          "metadata": {},
          "execution_count": 4
        }
      ]
    },
    {
      "cell_type": "code",
      "source": [
        "x=1000\n",
        "y=1000\n",
        "id(x),id(y) #이 경우에 주소가 다르게 나오는 이유는 파이썬에서 자주 쓰일 것 같은 범위의 정수값만 한 주소에 저장하기 때문이다."
      ],
      "metadata": {
        "colab": {
          "base_uri": "https://localhost:8080/"
        },
        "id": "Tf_FoSCZ8TFS",
        "outputId": "48ce8a8b-747b-49f3-9a5f-613c8b1c4358"
      },
      "execution_count": null,
      "outputs": [
        {
          "output_type": "execute_result",
          "data": {
            "text/plain": [
              "(140498056383664, 140498056383472)"
            ]
          },
          "metadata": {},
          "execution_count": 5
        }
      ]
    },
    {
      "cell_type": "code",
      "source": [
        "mystring=\"hello world\""
      ],
      "metadata": {
        "id": "rcfZai3s811M"
      },
      "execution_count": null,
      "outputs": []
    },
    {
      "cell_type": "code",
      "source": [
        "mystring[0:3] #이 기능은 문자열을 슬라이싱(sliceing)하는 기능으로 범위를 지정해서 문자열을 자를 수 있다."
      ],
      "metadata": {
        "colab": {
          "base_uri": "https://localhost:8080/",
          "height": 35
        },
        "id": "uaPafJ7W_k0h",
        "outputId": "8288a034-0119-46aa-e0a7-ebe49b67de5c"
      },
      "execution_count": null,
      "outputs": [
        {
          "output_type": "execute_result",
          "data": {
            "application/vnd.google.colaboratory.intrinsic+json": {
              "type": "string"
            },
            "text/plain": [
              "'hel'"
            ]
          },
          "metadata": {},
          "execution_count": 7
        }
      ]
    },
    {
      "cell_type": "code",
      "source": [
        "mystring[4:], mystring[:6] #이렇게 앞뒤도 생략 가능하다. "
      ],
      "metadata": {
        "colab": {
          "base_uri": "https://localhost:8080/"
        },
        "id": "ELlIsFmg_nKi",
        "outputId": "5e230705-012d-44f1-a495-9ec6e21970a2"
      },
      "execution_count": null,
      "outputs": [
        {
          "output_type": "execute_result",
          "data": {
            "text/plain": [
              "('o world', 'hello ')"
            ]
          },
          "metadata": {},
          "execution_count": 9
        }
      ]
    },
    {
      "cell_type": "code",
      "source": [
        "mystring[6:-1] #이렇게 음수를 쓸 수도 있는데, 이때는 뒤에서부터 센다."
      ],
      "metadata": {
        "colab": {
          "base_uri": "https://localhost:8080/",
          "height": 35
        },
        "id": "XE3pthwN_1ln",
        "outputId": "3bf30558-be6a-46f6-898f-e645092229f7"
      },
      "execution_count": null,
      "outputs": [
        {
          "output_type": "execute_result",
          "data": {
            "application/vnd.google.colaboratory.intrinsic+json": {
              "type": "string"
            },
            "text/plain": [
              "'worl'"
            ]
          },
          "metadata": {},
          "execution_count": 11
        }
      ]
    },
    {
      "cell_type": "code",
      "source": [
        "my_jusik='Lg energy solution'"
      ],
      "metadata": {
        "id": "AYs2GzNXAG0y"
      },
      "execution_count": null,
      "outputs": []
    },
    {
      "cell_type": "code",
      "source": [
        "my_jusik.split(' ') #split은 파이썬에서 제공하는 문자열 자르기 기능인데, ' '은 공백을 기준으로 나누겠다라는 뜻이다. 반환값은 리스트이다."
      ],
      "metadata": {
        "colab": {
          "base_uri": "https://localhost:8080/"
        },
        "id": "5oXe1XKcAUHA",
        "outputId": "607c7c22-43a7-46de-8b6f-0ea64b00c9d7"
      },
      "execution_count": null,
      "outputs": [
        {
          "output_type": "execute_result",
          "data": {
            "text/plain": [
              "['Lg', 'energy', 'solution']"
            ]
          },
          "metadata": {},
          "execution_count": 13
        }
      ]
    },
    {
      "cell_type": "code",
      "source": [
        "my_jusik.split(' ')[0] #결과값이 리스트이므로 인덱스 0에 접근한다."
      ],
      "metadata": {
        "colab": {
          "base_uri": "https://localhost:8080/",
          "height": 35
        },
        "id": "nRTRdR2PAXgm",
        "outputId": "65318958-e58b-4f3e-9b65-9ed75c336893"
      },
      "execution_count": null,
      "outputs": [
        {
          "output_type": "execute_result",
          "data": {
            "application/vnd.google.colaboratory.intrinsic+json": {
              "type": "string"
            },
            "text/plain": [
              "'Lg'"
            ]
          },
          "metadata": {},
          "execution_count": 14
        }
      ]
    },
    {
      "cell_type": "code",
      "source": [
        "print(my_jusik.split(' ')[0])"
      ],
      "metadata": {
        "colab": {
          "base_uri": "https://localhost:8080/"
        },
        "id": "0_WMM35EAoVL",
        "outputId": "a517a71f-13a8-4e3a-fefa-f6fca8334988"
      },
      "execution_count": null,
      "outputs": [
        {
          "output_type": "stream",
          "name": "stdout",
          "text": [
            "Lg\n"
          ]
        }
      ]
    },
    {
      "cell_type": "code",
      "source": [
        "#문제 2-1 다음(Daum)의 주가가 89,000원이고 네이버(Naver)의 주가가 751,000원이라고 가정하고, \n",
        "#어떤 사람이 다음 주식 100주와 네이버 주식 20주를 가지고 있을 때 그 사람이 가지고 있는 주식의 총액을 계산하는 프로그램을 작성하세요."
      ],
      "metadata": {
        "id": "iMObYbRjAxs1"
      },
      "execution_count": null,
      "outputs": []
    },
    {
      "cell_type": "code",
      "source": [
        "daum=89000\n",
        "naver=751000\n",
        "zusik_sum=daum*100+naver*20\n",
        "print(zusik_sum)"
      ],
      "metadata": {
        "colab": {
          "base_uri": "https://localhost:8080/"
        },
        "id": "yEjP0hsyBS88",
        "outputId": "99a230cb-b0d1-4ca6-ad01-3b6ddc65d3f4"
      },
      "execution_count": null,
      "outputs": [
        {
          "output_type": "stream",
          "name": "stdout",
          "text": [
            "23920000\n"
          ]
        }
      ]
    },
    {
      "cell_type": "code",
      "source": [
        "#문제 2-2 문제 2-1에서 구한 주식 총액에서 다음과 네이버의 주가가 각각 5%, 10% 하락한 경우에 손실액을 구하는 프로그램을 작성하세요."
      ],
      "metadata": {
        "id": "GwmLVzJcBl0b"
      },
      "execution_count": null,
      "outputs": []
    },
    {
      "cell_type": "code",
      "source": [
        "zusik_down=(daum*0.05*100+naver*0.10*20)\n",
        "print(zusik_down)"
      ],
      "metadata": {
        "colab": {
          "base_uri": "https://localhost:8080/"
        },
        "id": "Ilxijrs-Br5e",
        "outputId": "678098d4-a3fb-43f4-f6b3-74c60414afb9"
      },
      "execution_count": null,
      "outputs": [
        {
          "output_type": "stream",
          "name": "stdout",
          "text": [
            "1947000.0\n"
          ]
        }
      ]
    },
    {
      "cell_type": "code",
      "source": [
        "f=50\n",
        "c=(f-32)/1.8\n",
        "print(c)"
      ],
      "metadata": {
        "colab": {
          "base_uri": "https://localhost:8080/"
        },
        "id": "MNw7ZsseCGQp",
        "outputId": "8ba6ec2e-9fd7-447a-d438-0e38aac24b38"
      },
      "execution_count": null,
      "outputs": [
        {
          "output_type": "stream",
          "name": "stdout",
          "text": [
            "10.0\n"
          ]
        }
      ]
    },
    {
      "cell_type": "code",
      "source": [
        "#문제 2-4 화면에 \"pizza\"를 10번 출력하는 프로그램을 작성하세요."
      ],
      "metadata": {
        "id": "_TUh5xCjCkFj"
      },
      "execution_count": null,
      "outputs": []
    },
    {
      "cell_type": "code",
      "source": [
        "print(\"pizza\\n\"*10)"
      ],
      "metadata": {
        "colab": {
          "base_uri": "https://localhost:8080/"
        },
        "id": "0XyYNSrBCnmc",
        "outputId": "f81e7afd-6e6d-4fe9-e035-ff4d24003b6d"
      },
      "execution_count": null,
      "outputs": [
        {
          "output_type": "stream",
          "name": "stdout",
          "text": [
            "pizza\n",
            "pizza\n",
            "pizza\n",
            "pizza\n",
            "pizza\n",
            "pizza\n",
            "pizza\n",
            "pizza\n",
            "pizza\n",
            "pizza\n",
            "\n"
          ]
        }
      ]
    },
    {
      "cell_type": "code",
      "source": [
        "#문제 2-5 월요일에 네이버의 주가가 100만 원으로 시작해 3일 연속으로 하한가(-30%)를 기록했을 때 수요일의 종가를 계산해 보세요."
      ],
      "metadata": {
        "id": "-t9iLeTmDMQh"
      },
      "execution_count": null,
      "outputs": []
    },
    {
      "cell_type": "code",
      "source": [
        "naver=1000000\n",
        "wed_end=(naver*0.7*0.7*0.7)\n",
        "print(wed_end)"
      ],
      "metadata": {
        "colab": {
          "base_uri": "https://localhost:8080/"
        },
        "id": "xvKtx3CIDThk",
        "outputId": "4235bd90-0e00-46d4-ff92-4965fc01ee67"
      },
      "execution_count": null,
      "outputs": [
        {
          "output_type": "stream",
          "name": "stdout",
          "text": [
            "342999.99999999994\n"
          ]
        }
      ]
    },
    {
      "cell_type": "code",
      "source": [
        "#s라는 변수에 'Daum KaKao'라는 문자열이 바인딩돼 있다고 했을 때 문자열의 슬라이싱 기능과 연결하기를 이용해 s의 값을 'KaKao Daum'으로 변경해 보세요."
      ],
      "metadata": {
        "id": "r06kXl-5D3WN"
      },
      "execution_count": null,
      "outputs": []
    },
    {
      "cell_type": "code",
      "source": [
        "s='Daum KaKao'\n",
        "s=s[5:10]+' '+s[0:4]\n",
        "print(s)"
      ],
      "metadata": {
        "colab": {
          "base_uri": "https://localhost:8080/"
        },
        "id": "quV6-4RkEAB0",
        "outputId": "e436227d-fdf1-4e20-bd3a-50063549f95a"
      },
      "execution_count": null,
      "outputs": [
        {
          "output_type": "stream",
          "name": "stdout",
          "text": [
            "KaKao Daum\n"
          ]
        }
      ]
    },
    {
      "cell_type": "code",
      "source": [
        "#문제 2-8 a라는 변수에 'hello world'라는 문자열이 바인딩돼 있다고 했을 때 a의 값을 'hi world'로 변경해 보세요."
      ],
      "metadata": {
        "id": "T65S2PdkEGqw"
      },
      "execution_count": null,
      "outputs": []
    },
    {
      "cell_type": "code",
      "source": [
        "a='hello world'\n",
        "a='hi'+a[5:]\n",
        "print(a)"
      ],
      "metadata": {
        "colab": {
          "base_uri": "https://localhost:8080/"
        },
        "id": "q1_Bs2pxEpdE",
        "outputId": "0b2109c6-90c3-4b8b-f451-b087f29d8403"
      },
      "execution_count": null,
      "outputs": [
        {
          "output_type": "stream",
          "name": "stdout",
          "text": [
            "hi world\n"
          ]
        }
      ]
    },
    {
      "cell_type": "code",
      "source": [
        "#문제 2-9 x라는 변수에 'abcdef'라는 문자열이 바인딩돼 있다고 했을 때 x의 값을 'bcdefa'로 변경해 보세요."
      ],
      "metadata": {
        "id": "wdU_BP2BExmC"
      },
      "execution_count": null,
      "outputs": []
    },
    {
      "cell_type": "code",
      "source": [
        "x='abcdef'\n",
        "x=x[1:]+x[0]\n",
        "print(x)"
      ],
      "metadata": {
        "colab": {
          "base_uri": "https://localhost:8080/"
        },
        "id": "qaCan77dE3iy",
        "outputId": "6d9040e2-cdee-4692-d4ef-7bef7679610b"
      },
      "execution_count": null,
      "outputs": [
        {
          "output_type": "stream",
          "name": "stdout",
          "text": [
            "bcdefa\n"
          ]
        }
      ]
    },
    {
      "cell_type": "code",
      "source": [
        "#파이썬의 리스트는 정수,실수,문자열(서로 다른 자료형),공백으로 만들 수 있다. "
      ],
      "metadata": {
        "id": "7NA10-PdE-P2"
      },
      "execution_count": null,
      "outputs": []
    },
    {
      "cell_type": "code",
      "source": [
        "test=[1,2,3]\n",
        "test_1=[0.1,0.3,5.4]\n",
        "test_2=[\"i am test\",3]\n",
        "test_3=[]"
      ],
      "metadata": {
        "id": "ceWRqOWwHqxy"
      },
      "execution_count": null,
      "outputs": []
    },
    {
      "cell_type": "code",
      "source": [
        "print(test),print(test_1),print(test_2),print(test_3)"
      ],
      "metadata": {
        "colab": {
          "base_uri": "https://localhost:8080/"
        },
        "id": "Cw1yusHiHy_z",
        "outputId": "6af4f6a7-de45-4be6-f9e6-ca7cbdb16e3e"
      },
      "execution_count": null,
      "outputs": [
        {
          "output_type": "stream",
          "name": "stdout",
          "text": [
            "[1, 2, 3]\n",
            "[0.1, 0.3, 5.4]\n",
            "['i am test', 3]\n",
            "[]\n"
          ]
        },
        {
          "output_type": "execute_result",
          "data": {
            "text/plain": [
              "(None, None, None, None)"
            ]
          },
          "metadata": {},
          "execution_count": 47
        }
      ]
    },
    {
      "cell_type": "code",
      "source": [
        "kospi_top10=[\"삼성전자\",\"SK하이닉스\",\"삼성전자우\",\"NAVER\",\"삼성바이오로직스\",\"LG화학\",\"삼성SDI\",\"현대차\",\"카카오\",\"기아\"]"
      ],
      "metadata": {
        "id": "b5TyMpBZH4Z8"
      },
      "execution_count": null,
      "outputs": []
    },
    {
      "cell_type": "code",
      "source": [
        "print('시가총액 5위:',kospi_top10[4])"
      ],
      "metadata": {
        "colab": {
          "base_uri": "https://localhost:8080/"
        },
        "id": "7M3q4iCWIg6D",
        "outputId": "4b28e95a-e469-48b3-890a-e2e53bbb57c0"
      },
      "execution_count": null,
      "outputs": [
        {
          "output_type": "stream",
          "name": "stdout",
          "text": [
            "시가총액 5위: 삼성바이오로직스\n"
          ]
        }
      ]
    },
    {
      "cell_type": "code",
      "source": [
        "kospi_top5=kospi_top10[:5]\n",
        "print(kospi_top5)"
      ],
      "metadata": {
        "colab": {
          "base_uri": "https://localhost:8080/"
        },
        "id": "0IVZD3DVIqZV",
        "outputId": "95d74347-446c-47d1-c3ad-42d612d6a30d"
      },
      "execution_count": null,
      "outputs": [
        {
          "output_type": "stream",
          "name": "stdout",
          "text": [
            "['삼성전자', 'SK하이닉스', '삼성전자우', 'NAVER', '삼성바이오로직스']\n"
          ]
        }
      ]
    },
    {
      "cell_type": "code",
      "source": [
        "#append method는 리스트의 맨 뒤에 데이터를 추가한다."
      ],
      "metadata": {
        "id": "YrLTFu1NIycn"
      },
      "execution_count": null,
      "outputs": []
    },
    {
      "cell_type": "code",
      "source": [
        "print(kospi_top10)\n",
        "kospi_top10.append(\"sk텔레콤\")\n",
        "kospi_top11=kospi_top10\n",
        "print(kospi_top11)"
      ],
      "metadata": {
        "colab": {
          "base_uri": "https://localhost:8080/"
        },
        "id": "34PYBcv-KMU2",
        "outputId": "7e650c1b-bc61-4080-d568-042ca6ab4a2a"
      },
      "execution_count": null,
      "outputs": [
        {
          "output_type": "stream",
          "name": "stdout",
          "text": [
            "['삼성전자', 'SK하이닉스', '삼성전자우', 'NAVER', '삼성바이오로직스', 'LG화학', '삼성SDI', '현대차', '카카오', '기아']\n",
            "['삼성전자', 'SK하이닉스', '삼성전자우', 'NAVER', '삼성바이오로직스', 'LG화학', '삼성SDI', '현대차', '카카오', '기아', 'sk텔레콤']\n"
          ]
        }
      ]
    },
    {
      "cell_type": "code",
      "source": [
        "#insert method는 리스트의 원하는 부분에 데이터를 삽입할 수 있다."
      ],
      "metadata": {
        "id": "2GDd8o_GLC6S"
      },
      "execution_count": null,
      "outputs": []
    },
    {
      "cell_type": "code",
      "source": [
        "kospi_top10=[\"삼성전자\",\"SK하이닉스\",\"삼성전자우\",\"NAVER\",\"삼성바이오로직스\",\"LG화학\",\"삼성SDI\",\"현대차\",\"카카오\",\"기아\"]\n",
        "kospi_top10.insert(3,\"sk텔레콤\")\n",
        "print(kospi_top10)"
      ],
      "metadata": {
        "colab": {
          "base_uri": "https://localhost:8080/"
        },
        "id": "3Go_ojrCLoJL",
        "outputId": "014c72dc-db85-4db5-92fd-a3e1e4554417"
      },
      "execution_count": null,
      "outputs": [
        {
          "output_type": "stream",
          "name": "stdout",
          "text": [
            "['삼성전자', 'SK하이닉스', '삼성전자우', 'sk텔레콤', 'NAVER', '삼성바이오로직스', 'LG화학', '삼성SDI', '현대차', '카카오', '기아']\n"
          ]
        }
      ]
    },
    {
      "cell_type": "code",
      "source": [
        "#len은 리스트에 입력된 데이터의 개수를 출력하는 method이다."
      ],
      "metadata": {
        "id": "dh2tboasLw1E"
      },
      "execution_count": null,
      "outputs": []
    },
    {
      "cell_type": "code",
      "source": [
        "len(kospi_top10)"
      ],
      "metadata": {
        "colab": {
          "base_uri": "https://localhost:8080/"
        },
        "id": "QfzzkftxMJtK",
        "outputId": "7d03f26d-24f1-4666-e183-318d7b2d3f10"
      },
      "execution_count": null,
      "outputs": [
        {
          "output_type": "execute_result",
          "data": {
            "text/plain": [
              "11"
            ]
          },
          "metadata": {},
          "execution_count": 70
        }
      ]
    },
    {
      "cell_type": "code",
      "source": [
        "kospi_top10[-1]"
      ],
      "metadata": {
        "colab": {
          "base_uri": "https://localhost:8080/",
          "height": 35
        },
        "id": "PnJP9Uz-MLzy",
        "outputId": "7b04c1a6-397e-41e6-f1a5-3f4f3b5bafdb"
      },
      "execution_count": null,
      "outputs": [
        {
          "output_type": "execute_result",
          "data": {
            "application/vnd.google.colaboratory.intrinsic+json": {
              "type": "string"
            },
            "text/plain": [
              "'기아'"
            ]
          },
          "metadata": {},
          "execution_count": 71
        }
      ]
    },
    {
      "cell_type": "code",
      "source": [
        "#del은 리스트에 입력된 데이터를 지우는 method이다."
      ],
      "metadata": {
        "id": "Xczng--jMOHl"
      },
      "execution_count": null,
      "outputs": []
    },
    {
      "cell_type": "code",
      "source": [
        "del kospi_top10[-1]\n",
        "print(kospi_top10), len(kospi_top10)"
      ],
      "metadata": {
        "colab": {
          "base_uri": "https://localhost:8080/"
        },
        "id": "smBbkYP8MSt4",
        "outputId": "2c6778d9-6b3e-49ae-d1dc-b58307bf4b16"
      },
      "execution_count": null,
      "outputs": [
        {
          "output_type": "stream",
          "name": "stdout",
          "text": [
            "['삼성전자', 'SK하이닉스', '삼성전자우', 'sk텔레콤', 'NAVER', '삼성바이오로직스', 'LG화학', '삼성SDI', '현대차', '카카오']\n"
          ]
        },
        {
          "output_type": "execute_result",
          "data": {
            "text/plain": [
              "(None, 10)"
            ]
          },
          "metadata": {},
          "execution_count": 73
        }
      ]
    },
    {
      "cell_type": "code",
      "source": [
        "#튜플과 리스트에는 2가지 차이점이 있다. \n",
        "#1. 리스트는 []을 사용하고 튜플은 ()을 사용한다.\n",
        "#2. 리스트는 리스트 내의 원소를 변경할 수 있지만 튜플은 변경할 수 없다.\n",
        "#튜플은 리스트보다 속도가 빠르다는 장점이 있다."
      ],
      "metadata": {
        "id": "3IsFGSMPMZ8h"
      },
      "execution_count": null,
      "outputs": []
    },
    {
      "cell_type": "code",
      "source": [
        "#튜플 슬라이싱은 리스트와 방식이 똑같다. 단 데이터 삭제는 불가능하다."
      ],
      "metadata": {
        "id": "utSRUzOkMtiT"
      },
      "execution_count": null,
      "outputs": []
    },
    {
      "cell_type": "code",
      "source": [
        "t = ('Samsung','Lg','sk')\n",
        "t[0:2]"
      ],
      "metadata": {
        "colab": {
          "base_uri": "https://localhost:8080/"
        },
        "id": "mXQN3GyzM00y",
        "outputId": "13c04122-d2fb-457c-8199-f2b914d3cec8"
      },
      "execution_count": null,
      "outputs": [
        {
          "output_type": "execute_result",
          "data": {
            "text/plain": [
              "('Samsung', 'Lg')"
            ]
          },
          "metadata": {},
          "execution_count": 80
        }
      ]
    },
    {
      "cell_type": "code",
      "source": [
        "#딕셔너리는 서로 연관된 2개의 데이터 쌍을 저장할 때 유리하다. {}기호를 사용한다."
      ],
      "metadata": {
        "id": "croC8kWCM8mh"
      },
      "execution_count": null,
      "outputs": []
    },
    {
      "cell_type": "code",
      "source": [
        "cur_price={}"
      ],
      "metadata": {
        "id": "dfD70LK9NQ2T"
      },
      "execution_count": null,
      "outputs": []
    },
    {
      "cell_type": "code",
      "source": [
        "type(cur_price) #type 함수로 형태를 확인할 수 있다."
      ],
      "metadata": {
        "colab": {
          "base_uri": "https://localhost:8080/"
        },
        "id": "X-xeUsJNOiY8",
        "outputId": "00b6d057-faf7-42fe-d3a3-c89131e446aa"
      },
      "execution_count": null,
      "outputs": [
        {
          "output_type": "execute_result",
          "data": {
            "text/plain": [
              "dict"
            ]
          },
          "metadata": {},
          "execution_count": 84
        }
      ]
    },
    {
      "cell_type": "code",
      "source": [
        "cur_price['daeshin']=30000 #daeshin이 키이고 30000이 값이다.\n",
        "cur_price['Daum kakao']=89000 #Daum kakao가 키이고 89000이 값이다."
      ],
      "metadata": {
        "id": "8ZLoS_NiO7Rf"
      },
      "execution_count": null,
      "outputs": []
    },
    {
      "cell_type": "code",
      "source": [
        "cur_price, len(cur_price)"
      ],
      "metadata": {
        "colab": {
          "base_uri": "https://localhost:8080/"
        },
        "id": "7OZ5esJXPXsM",
        "outputId": "31f3b350-9f86-46b7-f308-c546d6a6af4f"
      },
      "execution_count": null,
      "outputs": [
        {
          "output_type": "execute_result",
          "data": {
            "text/plain": [
              "({'Daum kakao': 89000, 'daeshin': 30000}, 2)"
            ]
          },
          "metadata": {},
          "execution_count": 88
        }
      ]
    },
    {
      "cell_type": "code",
      "source": [
        "cur_price[0]\n",
        "#딕셔너리는 인덱싱 기능을 지원하지 않는다. 쌍으로 연결되어 있기 때문이다."
      ],
      "metadata": {
        "colab": {
          "base_uri": "https://localhost:8080/",
          "height": 184
        },
        "id": "EuhawXMXPZ5H",
        "outputId": "76173725-ec88-4bc6-d470-b0a4f3e30449"
      },
      "execution_count": null,
      "outputs": [
        {
          "output_type": "error",
          "ename": "KeyError",
          "evalue": "ignored",
          "traceback": [
            "\u001b[0;31m---------------------------------------------------------------------------\u001b[0m",
            "\u001b[0;31mKeyError\u001b[0m                                  Traceback (most recent call last)",
            "\u001b[0;32m<ipython-input-89-6aa766f74bf9>\u001b[0m in \u001b[0;36m<module>\u001b[0;34m()\u001b[0m\n\u001b[0;32m----> 1\u001b[0;31m \u001b[0mcur_price\u001b[0m\u001b[0;34m[\u001b[0m\u001b[0;36m0\u001b[0m\u001b[0;34m]\u001b[0m\u001b[0;34m\u001b[0m\u001b[0;34m\u001b[0m\u001b[0m\n\u001b[0m\u001b[1;32m      2\u001b[0m \u001b[0;31m#딕셔너리는 인덱싱 기능을 지원하지 않는다. 쌍으로 연결되어 있기 때문이다.\u001b[0m\u001b[0;34m\u001b[0m\u001b[0;34m\u001b[0m\u001b[0;34m\u001b[0m\u001b[0m\n",
            "\u001b[0;31mKeyError\u001b[0m: 0"
          ]
        }
      ]
    },
    {
      "cell_type": "code",
      "source": [
        "cur_price['daeshin'], cur_price['Daum kakao'] #딕셔너리에 추가한 데이터를 구하려면 키값을 사용해야 한다."
      ],
      "metadata": {
        "colab": {
          "base_uri": "https://localhost:8080/"
        },
        "id": "-Qh0NndgPjXy",
        "outputId": "e4647c88-6959-4035-f9e9-6511a72f9b80"
      },
      "execution_count": null,
      "outputs": [
        {
          "output_type": "execute_result",
          "data": {
            "text/plain": [
              "(30000, 89000)"
            ]
          },
          "metadata": {},
          "execution_count": 94
        }
      ]
    },
    {
      "cell_type": "code",
      "source": [
        "cur_price.keys() #keys는 키값만 확인할 수 있는 함수이다. "
      ],
      "metadata": {
        "colab": {
          "base_uri": "https://localhost:8080/"
        },
        "id": "7ubTl6XvQPPF",
        "outputId": "5e99c074-bfbf-4f38-bf77-751e769d2597"
      },
      "execution_count": null,
      "outputs": [
        {
          "output_type": "execute_result",
          "data": {
            "text/plain": [
              "dict_keys(['daeshin', 'Daum kakao'])"
            ]
          },
          "metadata": {},
          "execution_count": 95
        }
      ]
    },
    {
      "cell_type": "code",
      "source": [
        "#하지만 keys의 내용은 리스트가 아니므로 리스트로 사용하려면 형변환이 필요하다.\n",
        "list(cur_price.keys())"
      ],
      "metadata": {
        "colab": {
          "base_uri": "https://localhost:8080/"
        },
        "id": "jP0RVGK7QTqg",
        "outputId": "f4020d12-b349-4383-ad29-97123f720368"
      },
      "execution_count": null,
      "outputs": [
        {
          "output_type": "execute_result",
          "data": {
            "text/plain": [
              "['daeshin', 'Daum kakao']"
            ]
          },
          "metadata": {},
          "execution_count": 97
        }
      ]
    },
    {
      "cell_type": "code",
      "source": [
        "stock_list=list(cur_price.keys()) #새로운 변수로 값을 바인딩한다\n",
        "stock_list"
      ],
      "metadata": {
        "colab": {
          "base_uri": "https://localhost:8080/"
        },
        "id": "S4yv5idyQj9c",
        "outputId": "c20517d5-7d57-483b-ad54-55ae79d5f237"
      },
      "execution_count": null,
      "outputs": [
        {
          "output_type": "execute_result",
          "data": {
            "text/plain": [
              "['daeshin', 'Daum kakao']"
            ]
          },
          "metadata": {},
          "execution_count": 99
        }
      ]
    },
    {
      "cell_type": "code",
      "source": [
        "price_list=list(cur_price.values()) #values는 값만 확인할 수 있는 함수이다.\n",
        "price_list"
      ],
      "metadata": {
        "colab": {
          "base_uri": "https://localhost:8080/"
        },
        "id": "MZoevPM3QyiH",
        "outputId": "dd792677-4a16-41dd-918a-794e610b928a"
      },
      "execution_count": null,
      "outputs": [
        {
          "output_type": "execute_result",
          "data": {
            "text/plain": [
              "[30000, 89000]"
            ]
          },
          "metadata": {},
          "execution_count": 101
        }
      ]
    },
    {
      "cell_type": "code",
      "source": [
        "'Samsung' in cur_price.keys() #in 함수는 값이 원하는 곳 안에 있는지 확인하는 함수이다. false이므로 해당 딕셔너리에는 samsung이라는 키값이 존재하지 않는다."
      ],
      "metadata": {
        "colab": {
          "base_uri": "https://localhost:8080/"
        },
        "id": "3axCWdDYRGdK",
        "outputId": "f3c6cc83-7b76-415f-b0c4-d1e6189d3c3b"
      },
      "execution_count": null,
      "outputs": [
        {
          "output_type": "execute_result",
          "data": {
            "text/plain": [
              "False"
            ]
          },
          "metadata": {},
          "execution_count": 103
        }
      ]
    },
    {
      "cell_type": "code",
      "source": [
        "#2015년 9월 초의 네이버 종가는 표 3.2와 같습니다. 09/07의 종가를 리스트의 첫 번째 항목으로 입력해서 naver_closing_price라는 이름의 리스트를 만들어보세요."
      ],
      "metadata": {
        "id": "yupqlAcGRQxY"
      },
      "execution_count": null,
      "outputs": []
    },
    {
      "cell_type": "code",
      "source": [
        "naver_closing_price=[474500,461500,501000,500500,488500]\n",
        "naver_closing_price"
      ],
      "metadata": {
        "colab": {
          "base_uri": "https://localhost:8080/"
        },
        "id": "BHicpUrLUAlD",
        "outputId": "63ac8022-ad43-4463-f3e9-74f6978040f8"
      },
      "execution_count": null,
      "outputs": [
        {
          "output_type": "execute_result",
          "data": {
            "text/plain": [
              "[474500, 461500, 501000, 500500, 488500]"
            ]
          },
          "metadata": {},
          "execution_count": 110
        }
      ]
    },
    {
      "cell_type": "code",
      "source": [
        "print(max(naver_closing_price)) #리스트에서 가장 높은 값을 찾는 함수는 max이다."
      ],
      "metadata": {
        "colab": {
          "base_uri": "https://localhost:8080/"
        },
        "id": "gQDP_OQeUMlN",
        "outputId": "e93ffbb2-7435-4651-ab73-d6bfcd61d063"
      },
      "execution_count": null,
      "outputs": [
        {
          "output_type": "stream",
          "name": "stdout",
          "text": [
            "501000\n"
          ]
        }
      ]
    },
    {
      "cell_type": "code",
      "source": [
        "print(min(naver_closing_price)) #리스트에서 가장 낮은 값을 찾는 함수는 min이다."
      ],
      "metadata": {
        "colab": {
          "base_uri": "https://localhost:8080/"
        },
        "id": "3FxgORhPUS5J",
        "outputId": "d344ddfa-95fe-4326-f2bc-2f0d7fdd2aac"
      },
      "execution_count": null,
      "outputs": [
        {
          "output_type": "stream",
          "name": "stdout",
          "text": [
            "461500\n"
          ]
        }
      ]
    },
    {
      "cell_type": "code",
      "source": [
        "print(max(naver_closing_price)-min(naver_closing_price))"
      ],
      "metadata": {
        "colab": {
          "base_uri": "https://localhost:8080/"
        },
        "id": "zN5TeuwcUftT",
        "outputId": "064b148c-8d7d-499c-abda-b6c95a3a7dd8"
      },
      "execution_count": null,
      "outputs": [
        {
          "output_type": "stream",
          "name": "stdout",
          "text": [
            "39500\n"
          ]
        }
      ]
    },
    {
      "cell_type": "code",
      "source": [
        "print(naver_closing_price[2])"
      ],
      "metadata": {
        "colab": {
          "base_uri": "https://localhost:8080/"
        },
        "id": "8CfP7zYdUlvi",
        "outputId": "13d7542d-f146-494d-bca6-343c17cabbb7"
      },
      "execution_count": null,
      "outputs": [
        {
          "output_type": "stream",
          "name": "stdout",
          "text": [
            "501000\n"
          ]
        }
      ]
    },
    {
      "cell_type": "code",
      "source": [
        "naver_closing_price2={7:474500,8:461500,9:501000,10:500500,11:488500}\n",
        "naver_closing_price2"
      ],
      "metadata": {
        "colab": {
          "base_uri": "https://localhost:8080/"
        },
        "id": "cOAaAs_KUrMT",
        "outputId": "e715fe1a-c566-4055-8a69-ee013fcffc90"
      },
      "execution_count": null,
      "outputs": [
        {
          "output_type": "execute_result",
          "data": {
            "text/plain": [
              "{7: 474500, 8: 461500, 9: 501000, 10: 500500, 11: 488500}"
            ]
          },
          "metadata": {},
          "execution_count": 115
        }
      ]
    },
    {
      "cell_type": "code",
      "source": [
        "naver_closing_price2[9]"
      ],
      "metadata": {
        "colab": {
          "base_uri": "https://localhost:8080/"
        },
        "id": "4FKq3hj4VMM4",
        "outputId": "43ae9924-b0af-4e37-ec46-791a316e1bd6"
      },
      "execution_count": null,
      "outputs": [
        {
          "output_type": "execute_result",
          "data": {
            "text/plain": [
              "501000"
            ]
          },
          "metadata": {},
          "execution_count": 117
        }
      ]
    },
    {
      "cell_type": "code",
      "source": [
        "#boolean은 true와 false만 반환할 수 있는 자료형이다. 주로 비교형 연산자에서 많이 사용된다."
      ],
      "metadata": {
        "id": "GXHwCgu8VRXQ"
      },
      "execution_count": null,
      "outputs": []
    },
    {
      "cell_type": "code",
      "source": [
        "mystock ='Naver'\n",
        "mystock == 'Naver'"
      ],
      "metadata": {
        "colab": {
          "base_uri": "https://localhost:8080/"
        },
        "id": "HR7M2nEPV7bK",
        "outputId": "2949ecfa-50fb-4c5b-e02d-fc0f0ad506cc"
      },
      "execution_count": null,
      "outputs": [
        {
          "output_type": "execute_result",
          "data": {
            "text/plain": [
              "True"
            ]
          },
          "metadata": {},
          "execution_count": 119
        }
      ]
    },
    {
      "cell_type": "code",
      "source": [
        "#파이썬에서 if문을 사용할 때에는 맨 뒤에 :(콜론)을 붙인다."
      ],
      "metadata": {
        "id": "LUwyIDnSWDL9"
      },
      "execution_count": null,
      "outputs": []
    },
    {
      "cell_type": "code",
      "source": [
        "#파이썬에서 for문을 사용할 때에는 for 변수명 in 리스트/튜플/문자열: 와 같이 사용한다. 또는 범위를 지정하고 싶다면 range()를 이용해 지정할 수 있다."
      ],
      "metadata": {
        "id": "mRSrjgMJWPQC"
      },
      "execution_count": null,
      "outputs": []
    },
    {
      "cell_type": "code",
      "source": [
        "for i in range(0,11):\n",
        "  print(i)"
      ],
      "metadata": {
        "colab": {
          "base_uri": "https://localhost:8080/"
        },
        "id": "0PpFhYsAWo7X",
        "outputId": "316111cc-b641-43ca-9f7f-af38e2c26deb"
      },
      "execution_count": null,
      "outputs": [
        {
          "output_type": "stream",
          "name": "stdout",
          "text": [
            "0\n",
            "1\n",
            "2\n",
            "3\n",
            "4\n",
            "5\n",
            "6\n",
            "7\n",
            "8\n",
            "9\n",
            "10\n"
          ]
        }
      ]
    },
    {
      "cell_type": "code",
      "source": [
        "interest_stocks = [\"Naver\", \"Samsung\",\"sk hynix\"]"
      ],
      "metadata": {
        "id": "1TsZfrFDW7rK"
      },
      "execution_count": null,
      "outputs": []
    },
    {
      "cell_type": "code",
      "source": [
        "for company in interest_stocks:\n",
        "  print(\"%s buy 10\" % company) #문자열이 출력될 곳에 %s를 쓰고 % 뒤에 반복할 리스트를 쓴다."
      ],
      "metadata": {
        "colab": {
          "base_uri": "https://localhost:8080/"
        },
        "id": "0bnqmnwPXLVT",
        "outputId": "1333d07c-9114-4d77-cd50-44ae944e5bed"
      },
      "execution_count": null,
      "outputs": [
        {
          "output_type": "stream",
          "name": "stdout",
          "text": [
            "Naver buy 10\n",
            "Samsung buy 10\n",
            "sk hynix buy 10\n"
          ]
        }
      ]
    },
    {
      "cell_type": "code",
      "source": [
        "#딕셔너리에서 반복문 사용하기\n",
        "interest_stocks = {\"Naver\":10, \"Samsung\":5, \"Sk hynix\":30}"
      ],
      "metadata": {
        "id": "e0k6zP5qXXyd"
      },
      "execution_count": null,
      "outputs": []
    },
    {
      "cell_type": "code",
      "source": [
        "for company,stock_num in interest_stocks.items():\n",
        "  print(\"%s buy %s\" % (company,stock_num)) #딕셔너리는 값이 2개씩 연결되므로 변수도 2개 사용해야 함"
      ],
      "metadata": {
        "colab": {
          "base_uri": "https://localhost:8080/"
        },
        "id": "MWgd9jc7Xsij",
        "outputId": "8db0b5f0-3426-4ac5-d4e5-db503aed4ebe"
      },
      "execution_count": null,
      "outputs": [
        {
          "output_type": "stream",
          "name": "stdout",
          "text": [
            "Naver buy 10\n",
            "Samsung buy 5\n",
            "Sk hynix buy 30\n"
          ]
        }
      ]
    },
    {
      "cell_type": "code",
      "source": [
        "#while문과 if문을 이용해 홀수 찾기\n",
        "num=0\n",
        "while num<=10:\n",
        "  if num % 2 ==1:\n",
        "    print(num)\n",
        "  num+=1 #num값을 1씩 증가시킴"
      ],
      "metadata": {
        "colab": {
          "base_uri": "https://localhost:8080/"
        },
        "id": "9KrwgimZX9iu",
        "outputId": "a5d3d246-b56f-4302-fc51-409a38783c75"
      },
      "execution_count": null,
      "outputs": [
        {
          "output_type": "stream",
          "name": "stdout",
          "text": [
            "1\n",
            "3\n",
            "5\n",
            "7\n",
            "9\n"
          ]
        }
      ]
    },
    {
      "cell_type": "code",
      "source": [
        "for i in range(0,5):\n",
        "  print(\"*\", end='')"
      ],
      "metadata": {
        "colab": {
          "base_uri": "https://localhost:8080/"
        },
        "id": "7ClsjIVXYiMF",
        "outputId": "ef4864c8-4849-4fc0-9fbf-efff9a0a0cd7"
      },
      "execution_count": null,
      "outputs": [
        {
          "output_type": "stream",
          "name": "stdout",
          "text": [
            "*****"
          ]
        }
      ]
    },
    {
      "cell_type": "code",
      "source": [
        "for i in range(0,5):\n",
        "  for j in range(0,4):\n",
        "    print(\"*\",end='')\n",
        "  print('')"
      ],
      "metadata": {
        "colab": {
          "base_uri": "https://localhost:8080/"
        },
        "id": "3SAS8FkuY6AC",
        "outputId": "bd672581-5b93-42d0-981c-e9829875043f"
      },
      "execution_count": null,
      "outputs": [
        {
          "output_type": "stream",
          "name": "stdout",
          "text": [
            "****\n",
            "****\n",
            "****\n",
            "****\n",
            "****\n"
          ]
        }
      ]
    },
    {
      "cell_type": "code",
      "source": [
        "for i in range(5):\n",
        "  for j in range (i+1):\n",
        "    print(\"*\",end='')\n",
        "  print(\"\")"
      ],
      "metadata": {
        "colab": {
          "base_uri": "https://localhost:8080/"
        },
        "id": "1BpPlJ_LZHxq",
        "outputId": "6bc03e74-7dec-48fe-cbe7-c9a6bc94e362"
      },
      "execution_count": null,
      "outputs": [
        {
          "output_type": "stream",
          "name": "stdout",
          "text": [
            "*\n",
            "**\n",
            "***\n",
            "****\n",
            "*****\n"
          ]
        }
      ]
    },
    {
      "cell_type": "code",
      "source": [
        "for i in range(5):\n",
        "  for j in range(5-i):\n",
        "    print(\"*\",end='')\n",
        "  print(\"\")"
      ],
      "metadata": {
        "colab": {
          "base_uri": "https://localhost:8080/"
        },
        "id": "aZcByLY9Zdl0",
        "outputId": "76053d54-0ce8-491f-9a89-e549f87391b6"
      },
      "execution_count": null,
      "outputs": [
        {
          "output_type": "stream",
          "name": "stdout",
          "text": [
            "*****\n",
            "****\n",
            "***\n",
            "**\n",
            "*\n"
          ]
        }
      ]
    },
    {
      "cell_type": "code",
      "source": [
        "for i in range(5):\n",
        "  for j in range (5-i):\n",
        "    print(\" \",end='')\n",
        "  for j in range(i+1):\n",
        "    print(\"*\",end='')\n",
        "  print(\"\")"
      ],
      "metadata": {
        "colab": {
          "base_uri": "https://localhost:8080/"
        },
        "id": "MRr7dI3oaxPY",
        "outputId": "1a564e5f-bafb-480a-fa23-9221139de361"
      },
      "execution_count": null,
      "outputs": [
        {
          "output_type": "stream",
          "name": "stdout",
          "text": [
            "     *\n",
            "    **\n",
            "   ***\n",
            "  ****\n",
            " *****\n"
          ]
        }
      ]
    },
    {
      "cell_type": "code",
      "source": [
        "for i in range(5):\n",
        "  for j in range(i):\n",
        "    print(\" \",end='')\n",
        "  for j in range(5-i):\n",
        "    print(\"*\",end='')\n",
        "  print(\"\")"
      ],
      "metadata": {
        "colab": {
          "base_uri": "https://localhost:8080/"
        },
        "id": "Wum7j7jFb6oA",
        "outputId": "bf654d70-0cfa-427a-d41c-e754c9462bfb"
      },
      "execution_count": null,
      "outputs": [
        {
          "output_type": "stream",
          "name": "stdout",
          "text": [
            "*****\n",
            " ****\n",
            "  ***\n",
            "   **\n",
            "    *\n"
          ]
        }
      ]
    },
    {
      "cell_type": "code",
      "source": [
        "for i in range(5):\n",
        "  for j in range(4-i):\n",
        "    print(' ',end='')\n",
        "  for j in range((i+1)*2-1):\n",
        "    print(\"*\",end='')\n",
        "  print(\"\")"
      ],
      "metadata": {
        "colab": {
          "base_uri": "https://localhost:8080/"
        },
        "id": "ZZZR3q04Z1_O",
        "outputId": "f26daff2-953f-4e58-e165-45cd3a818972"
      },
      "execution_count": null,
      "outputs": [
        {
          "output_type": "stream",
          "name": "stdout",
          "text": [
            "    *\n",
            "   ***\n",
            "  *****\n",
            " *******\n",
            "*********\n"
          ]
        }
      ]
    },
    {
      "cell_type": "code",
      "source": [
        "for i in range(5):\n",
        "  for j in range(i):\n",
        "    print(' ',end='')\n",
        "  for j in range((5-i)*2-1):\n",
        "    print(\"*\",end='')\n",
        "  print(\"\")"
      ],
      "metadata": {
        "colab": {
          "base_uri": "https://localhost:8080/"
        },
        "id": "IDO01FnIczR2",
        "outputId": "182a8dd5-f374-4288-b5fa-a7d34b2b57b8"
      },
      "execution_count": null,
      "outputs": [
        {
          "output_type": "stream",
          "name": "stdout",
          "text": [
            "*********\n",
            " *******\n",
            "  *****\n",
            "   ***\n",
            "    *\n"
          ]
        }
      ]
    },
    {
      "cell_type": "code",
      "source": [
        ""
      ],
      "metadata": {
        "id": "fgMx0dsDc7H-"
      },
      "execution_count": null,
      "outputs": []
    }
  ]
}